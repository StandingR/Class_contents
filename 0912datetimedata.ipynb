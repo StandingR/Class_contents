{
 "cells": [
  {
   "cell_type": "code",
   "execution_count": null,
   "metadata": {},
   "outputs": [],
   "source": [
    "## 시꼐열 데이터 다루기"
   ]
  },
  {
   "cell_type": "markdown",
   "metadata": {},
   "source": [
    "## 시계열 데이터 다루기"
   ]
  },
  {
   "cell_type": "code",
   "execution_count": 2,
   "metadata": {},
   "outputs": [
    {
     "data": {
      "text/plain": [
       "datetime.datetime(2023, 9, 12, 0, 0)"
      ]
     },
     "execution_count": 2,
     "metadata": {},
     "output_type": "execute_result"
    }
   ],
   "source": [
    "from datetime import datetime #datetime 하나의 날짜 자료형\n",
    "\n",
    "date1 = datetime(2023, 9, 12)\n",
    "date1"
   ]
  },
  {
   "cell_type": "code",
   "execution_count": 6,
   "metadata": {},
   "outputs": [
    {
     "data": {
      "text/plain": [
       "datetime.datetime(2023, 9, 12, 22, 30)"
      ]
     },
     "execution_count": 6,
     "metadata": {},
     "output_type": "execute_result"
    }
   ],
   "source": [
    "date2 = datetime(2023, 9, 12, 22, 30) # 년 월 일 시 분 초\n",
    "date2"
   ]
  },
  {
   "cell_type": "code",
   "execution_count": 9,
   "metadata": {},
   "outputs": [
    {
     "name": "stdout",
     "output_type": "stream",
     "text": [
      "2023\n",
      "9\n",
      "12\n",
      "22\n",
      "1\n"
     ]
    }
   ],
   "source": [
    "print(date2.year) #alt shift 아래 문장 통쨰로 복사\n",
    "print(date2.month)\n",
    "print(date2.day)\n",
    "print(date2.hour)\n",
    "print(date2.weekday())  # 월요일 : 0"
   ]
  },
  {
   "cell_type": "code",
   "execution_count": 8,
   "metadata": {},
   "outputs": [
    {
     "name": "stdout",
     "output_type": "stream",
     "text": [
      "1\n"
     ]
    },
    {
     "ename": "AttributeError",
     "evalue": "'datetime.datetime' object has no attribute 'quarter'",
     "output_type": "error",
     "traceback": [
      "\u001b[0;31m---------------------------------------------------------------------------\u001b[0m",
      "\u001b[0;31mAttributeError\u001b[0m                            Traceback (most recent call last)",
      "Cell \u001b[0;32mIn[8], line 2\u001b[0m\n\u001b[1;32m      1\u001b[0m \u001b[39mprint\u001b[39m(date2\u001b[39m.\u001b[39mweekday()) \u001b[39m# 월요일 : 0\u001b[39;00m\n\u001b[0;32m----> 2\u001b[0m \u001b[39mprint\u001b[39m(date2\u001b[39m.\u001b[39;49mquarter)\n",
      "\u001b[0;31mAttributeError\u001b[0m: 'datetime.datetime' object has no attribute 'quarter'"
     ]
    }
   ],
   "source": [
    "print(date2.weekday()) # 월요일 : 0\n",
    "print(date2.quarter)"
   ]
  },
  {
   "cell_type": "code",
   "execution_count": 10,
   "metadata": {},
   "outputs": [
    {
     "name": "stdout",
     "output_type": "stream",
     "text": [
      "2023\n"
     ]
    }
   ],
   "source": [
    "import pandas as pd\n",
    "date3 = '2023-09-12'\n",
    "datetime_date3 = pd.to_datetime(date3)\n",
    "print(datetime_date3.year)\n"
   ]
  },
  {
   "cell_type": "code",
   "execution_count": null,
   "metadata": {},
   "outputs": [],
   "source": [
    "datetime_date3"
   ]
  },
  {
   "cell_type": "markdown",
   "metadata": {},
   "source": [
    "## 데이터를 년월별로 묶고 싶다. ex) 201201, 201202, 201203"
   ]
  },
  {
   "cell_type": "code",
   "execution_count": 11,
   "metadata": {},
   "outputs": [
    {
     "data": {
      "text/html": [
       "<div>\n",
       "<style scoped>\n",
       "    .dataframe tbody tr th:only-of-type {\n",
       "        vertical-align: middle;\n",
       "    }\n",
       "\n",
       "    .dataframe tbody tr th {\n",
       "        vertical-align: top;\n",
       "    }\n",
       "\n",
       "    .dataframe thead th {\n",
       "        text-align: right;\n",
       "    }\n",
       "</style>\n",
       "<table border=\"1\" class=\"dataframe\">\n",
       "  <thead>\n",
       "    <tr style=\"text-align: right;\">\n",
       "      <th></th>\n",
       "      <th>Date</th>\n",
       "      <th>Open</th>\n",
       "      <th>High</th>\n",
       "      <th>Low</th>\n",
       "      <th>Close</th>\n",
       "      <th>Adj Close</th>\n",
       "      <th>Volume</th>\n",
       "    </tr>\n",
       "  </thead>\n",
       "  <tbody>\n",
       "    <tr>\n",
       "      <th>0</th>\n",
       "      <td>2012-01-03</td>\n",
       "      <td>14.621429</td>\n",
       "      <td>14.732143</td>\n",
       "      <td>14.607143</td>\n",
       "      <td>14.686786</td>\n",
       "      <td>12.466090</td>\n",
       "      <td>302220800</td>\n",
       "    </tr>\n",
       "    <tr>\n",
       "      <th>1</th>\n",
       "      <td>2012-01-04</td>\n",
       "      <td>14.642857</td>\n",
       "      <td>14.810000</td>\n",
       "      <td>14.617143</td>\n",
       "      <td>14.765714</td>\n",
       "      <td>12.533089</td>\n",
       "      <td>260022000</td>\n",
       "    </tr>\n",
       "    <tr>\n",
       "      <th>2</th>\n",
       "      <td>2012-01-05</td>\n",
       "      <td>14.819643</td>\n",
       "      <td>14.948214</td>\n",
       "      <td>14.738214</td>\n",
       "      <td>14.929643</td>\n",
       "      <td>12.672229</td>\n",
       "      <td>271269600</td>\n",
       "    </tr>\n",
       "    <tr>\n",
       "      <th>3</th>\n",
       "      <td>2012-01-06</td>\n",
       "      <td>14.991786</td>\n",
       "      <td>15.098214</td>\n",
       "      <td>14.972143</td>\n",
       "      <td>15.085714</td>\n",
       "      <td>12.804703</td>\n",
       "      <td>318292800</td>\n",
       "    </tr>\n",
       "    <tr>\n",
       "      <th>4</th>\n",
       "      <td>2012-01-09</td>\n",
       "      <td>15.196429</td>\n",
       "      <td>15.276786</td>\n",
       "      <td>15.048214</td>\n",
       "      <td>15.061786</td>\n",
       "      <td>12.784389</td>\n",
       "      <td>394024400</td>\n",
       "    </tr>\n",
       "  </tbody>\n",
       "</table>\n",
       "</div>"
      ],
      "text/plain": [
       "         Date       Open       High        Low      Close  Adj Close  \\\n",
       "0  2012-01-03  14.621429  14.732143  14.607143  14.686786  12.466090   \n",
       "1  2012-01-04  14.642857  14.810000  14.617143  14.765714  12.533089   \n",
       "2  2012-01-05  14.819643  14.948214  14.738214  14.929643  12.672229   \n",
       "3  2012-01-06  14.991786  15.098214  14.972143  15.085714  12.804703   \n",
       "4  2012-01-09  15.196429  15.276786  15.048214  15.061786  12.784389   \n",
       "\n",
       "      Volume  \n",
       "0  302220800  \n",
       "1  260022000  \n",
       "2  271269600  \n",
       "3  318292800  \n",
       "4  394024400  "
      ]
     },
     "execution_count": 11,
     "metadata": {},
     "output_type": "execute_result"
    }
   ],
   "source": [
    "AAPL = pd.read_csv('https://raw.githubusercontent.com/jin0choi1216/dataset/main/AAPL.csv')\n",
    "AAPL.head()"
   ]
  },
  {
   "cell_type": "code",
   "execution_count": null,
   "metadata": {},
   "outputs": [],
   "source": [
    "#datetime_date3.strftime('시간자료형을 나타내는 포멧')\n",
    "#네자리수 연도 %Y\n",
    "#월은 %m"
   ]
  },
  {
   "cell_type": "markdown",
   "metadata": {},
   "source": [
    "# %Y%m%d %H:%M:%S\n",
    "# 년 월 일 시  분 초 "
   ]
  },
  {
   "cell_type": "code",
   "execution_count": null,
   "metadata": {},
   "outputs": [],
   "source": []
  },
  {
   "cell_type": "code",
   "execution_count": 12,
   "metadata": {},
   "outputs": [
    {
     "data": {
      "text/plain": [
       "Timestamp('2023-01-01 00:00:00')"
      ]
     },
     "execution_count": 12,
     "metadata": {},
     "output_type": "execute_result"
    }
   ],
   "source": [
    "date4 = '23-01-01' #2023-01-01\n",
    "pd.to_datetime(date4, format = '%y-%m-%d')"
   ]
  },
  {
   "cell_type": "code",
   "execution_count": null,
   "metadata": {},
   "outputs": [],
   "source": [
    "date5 = '2/2/2020' #월/일/년\n",
    "date6 =  'Jan 01, 2018'  # 월 일, 년"
   ]
  },
  {
   "cell_type": "markdown",
   "metadata": {},
   "source": []
  },
  {
   "cell_type": "code",
   "execution_count": 17,
   "metadata": {},
   "outputs": [
    {
     "data": {
      "text/plain": [
       "Timestamp('2020-02-02 00:00:00')"
      ]
     },
     "execution_count": 17,
     "metadata": {},
     "output_type": "execute_result"
    }
   ],
   "source": [
    "date5 ='2/2/2020' #2023-01-01\n",
    "pd.to_datetime(date5, format = '%d/%m/%Y')"
   ]
  },
  {
   "cell_type": "code",
   "execution_count": 27,
   "metadata": {},
   "outputs": [
    {
     "data": {
      "text/plain": [
       "Timestamp('2018-01-01 00:00:00')"
      ]
     },
     "execution_count": 27,
     "metadata": {},
     "output_type": "execute_result"
    }
   ],
   "source": [
    "date6 ='Jan 01, 2018' #2023-01-01\n",
    "pd.to_datetime(date6, format ='%b %d, %Y') # %b 3자리수 자료형 월"
   ]
  },
  {
   "cell_type": "code",
   "execution_count": null,
   "metadata": {},
   "outputs": [],
   "source": []
  },
  {
   "cell_type": "code",
   "execution_count": 29,
   "metadata": {},
   "outputs": [
    {
     "ename": "AttributeError",
     "evalue": "'str' object has no attribute 'strftime'",
     "output_type": "error",
     "traceback": [
      "\u001b[0;31m---------------------------------------------------------------------------\u001b[0m",
      "\u001b[0;31mAttributeError\u001b[0m                            Traceback (most recent call last)",
      "Cell \u001b[0;32mIn[29], line 1\u001b[0m\n\u001b[0;32m----> 1\u001b[0m date6\u001b[39m.\u001b[39;49mstrftime(\u001b[39m'\u001b[39m\u001b[39m%\u001b[39m\u001b[39mY년 \u001b[39m\u001b[39m%\u001b[39m\u001b[39mm월 \u001b[39m\u001b[39m%d\u001b[39;00m\u001b[39m일\u001b[39m\u001b[39m'\u001b[39m)\n",
      "\u001b[0;31mAttributeError\u001b[0m: 'str' object has no attribute 'strftime'"
     ]
    }
   ],
   "source": [
    "date1.strftime('%Y년 %m월 %d일')"
   ]
  },
  {
   "cell_type": "code",
   "execution_count": 30,
   "metadata": {},
   "outputs": [
    {
     "data": {
      "text/html": [
       "<div>\n",
       "<style scoped>\n",
       "    .dataframe tbody tr th:only-of-type {\n",
       "        vertical-align: middle;\n",
       "    }\n",
       "\n",
       "    .dataframe tbody tr th {\n",
       "        vertical-align: top;\n",
       "    }\n",
       "\n",
       "    .dataframe thead th {\n",
       "        text-align: right;\n",
       "    }\n",
       "</style>\n",
       "<table border=\"1\" class=\"dataframe\">\n",
       "  <thead>\n",
       "    <tr style=\"text-align: right;\">\n",
       "      <th></th>\n",
       "      <th>Date</th>\n",
       "      <th>Open</th>\n",
       "      <th>High</th>\n",
       "      <th>Low</th>\n",
       "      <th>Close</th>\n",
       "      <th>Adj Close</th>\n",
       "      <th>Volume</th>\n",
       "    </tr>\n",
       "  </thead>\n",
       "  <tbody>\n",
       "    <tr>\n",
       "      <th>0</th>\n",
       "      <td>2012-01-03</td>\n",
       "      <td>14.621429</td>\n",
       "      <td>14.732143</td>\n",
       "      <td>14.607143</td>\n",
       "      <td>14.686786</td>\n",
       "      <td>12.466090</td>\n",
       "      <td>302220800</td>\n",
       "    </tr>\n",
       "    <tr>\n",
       "      <th>1</th>\n",
       "      <td>2012-01-04</td>\n",
       "      <td>14.642857</td>\n",
       "      <td>14.810000</td>\n",
       "      <td>14.617143</td>\n",
       "      <td>14.765714</td>\n",
       "      <td>12.533089</td>\n",
       "      <td>260022000</td>\n",
       "    </tr>\n",
       "    <tr>\n",
       "      <th>2</th>\n",
       "      <td>2012-01-05</td>\n",
       "      <td>14.819643</td>\n",
       "      <td>14.948214</td>\n",
       "      <td>14.738214</td>\n",
       "      <td>14.929643</td>\n",
       "      <td>12.672229</td>\n",
       "      <td>271269600</td>\n",
       "    </tr>\n",
       "    <tr>\n",
       "      <th>3</th>\n",
       "      <td>2012-01-06</td>\n",
       "      <td>14.991786</td>\n",
       "      <td>15.098214</td>\n",
       "      <td>14.972143</td>\n",
       "      <td>15.085714</td>\n",
       "      <td>12.804703</td>\n",
       "      <td>318292800</td>\n",
       "    </tr>\n",
       "    <tr>\n",
       "      <th>4</th>\n",
       "      <td>2012-01-09</td>\n",
       "      <td>15.196429</td>\n",
       "      <td>15.276786</td>\n",
       "      <td>15.048214</td>\n",
       "      <td>15.061786</td>\n",
       "      <td>12.784389</td>\n",
       "      <td>394024400</td>\n",
       "    </tr>\n",
       "  </tbody>\n",
       "</table>\n",
       "</div>"
      ],
      "text/plain": [
       "         Date       Open       High        Low      Close  Adj Close  \\\n",
       "0  2012-01-03  14.621429  14.732143  14.607143  14.686786  12.466090   \n",
       "1  2012-01-04  14.642857  14.810000  14.617143  14.765714  12.533089   \n",
       "2  2012-01-05  14.819643  14.948214  14.738214  14.929643  12.672229   \n",
       "3  2012-01-06  14.991786  15.098214  14.972143  15.085714  12.804703   \n",
       "4  2012-01-09  15.196429  15.276786  15.048214  15.061786  12.784389   \n",
       "\n",
       "      Volume  \n",
       "0  302220800  \n",
       "1  260022000  \n",
       "2  271269600  \n",
       "3  318292800  \n",
       "4  394024400  "
      ]
     },
     "execution_count": 30,
     "metadata": {},
     "output_type": "execute_result"
    }
   ],
   "source": [
    "AAPL = pd.read_csv('https://raw.githubusercontent.com/jin0choi1216/dataset/main/AAPL.csv')\n",
    "AAPL.head()"
   ]
  },
  {
   "cell_type": "code",
   "execution_count": 31,
   "metadata": {},
   "outputs": [
    {
     "name": "stdout",
     "output_type": "stream",
     "text": [
      "<class 'pandas.core.frame.DataFrame'>\n",
      "RangeIndex: 2931 entries, 0 to 2930\n",
      "Data columns (total 7 columns):\n",
      " #   Column     Non-Null Count  Dtype  \n",
      "---  ------     --------------  -----  \n",
      " 0   Date       2931 non-null   object \n",
      " 1   Open       2931 non-null   float64\n",
      " 2   High       2931 non-null   float64\n",
      " 3   Low        2931 non-null   float64\n",
      " 4   Close      2931 non-null   float64\n",
      " 5   Adj Close  2931 non-null   float64\n",
      " 6   Volume     2931 non-null   int64  \n",
      "dtypes: float64(5), int64(1), object(1)\n",
      "memory usage: 160.4+ KB\n"
     ]
    }
   ],
   "source": [
    "AAPL.info()"
   ]
  },
  {
   "cell_type": "code",
   "execution_count": 34,
   "metadata": {},
   "outputs": [],
   "source": [
    "AAPL['Date'] = pd.to_datetime(AAPL['Date']) # DATE의 값들을 datetime형으로 변환"
   ]
  },
  {
   "cell_type": "code",
   "execution_count": 35,
   "metadata": {},
   "outputs": [
    {
     "data": {
      "text/plain": [
       "<bound method DataFrame.info of            Date        Open        High         Low       Close   Adj Close  \\\n",
       "0    2012-01-03   14.621429   14.732143   14.607143   14.686786   12.466090   \n",
       "1    2012-01-04   14.642857   14.810000   14.617143   14.765714   12.533089   \n",
       "2    2012-01-05   14.819643   14.948214   14.738214   14.929643   12.672229   \n",
       "3    2012-01-06   14.991786   15.098214   14.972143   15.085714   12.804703   \n",
       "4    2012-01-09   15.196429   15.276786   15.048214   15.061786   12.784389   \n",
       "...         ...         ...         ...         ...         ...         ...   \n",
       "2926 2023-08-21  175.070007  176.130005  173.740005  175.839996  175.839996   \n",
       "2927 2023-08-22  177.059998  177.679993  176.250000  177.229996  177.229996   \n",
       "2928 2023-08-23  178.520004  181.550003  178.330002  181.119995  181.119995   \n",
       "2929 2023-08-24  180.669998  181.100006  176.009995  176.380005  176.380005   \n",
       "2930 2023-08-25  177.380005  179.149994  175.820007  178.610001  178.610001   \n",
       "\n",
       "         Volume  \n",
       "0     302220800  \n",
       "1     260022000  \n",
       "2     271269600  \n",
       "3     318292800  \n",
       "4     394024400  \n",
       "...         ...  \n",
       "2926   46311900  \n",
       "2927   42084200  \n",
       "2928   52722800  \n",
       "2929   54945800  \n",
       "2930   51418700  \n",
       "\n",
       "[2931 rows x 7 columns]>"
      ]
     },
     "execution_count": 35,
     "metadata": {},
     "output_type": "execute_result"
    }
   ],
   "source": [
    "AAPL.info"
   ]
  },
  {
   "cell_type": "code",
   "execution_count": 36,
   "metadata": {},
   "outputs": [
    {
     "data": {
      "text/plain": [
       "0       2012\n",
       "1       2012\n",
       "2       2012\n",
       "3       2012\n",
       "4       2012\n",
       "        ... \n",
       "2926    2023\n",
       "2927    2023\n",
       "2928    2023\n",
       "2929    2023\n",
       "2930    2023\n",
       "Name: Date, Length: 2931, dtype: int32"
      ]
     },
     "execution_count": 36,
     "metadata": {},
     "output_type": "execute_result"
    }
   ],
   "source": [
    "AAPL['Date'].dt.year"
   ]
  },
  {
   "cell_type": "code",
   "execution_count": 40,
   "metadata": {},
   "outputs": [
    {
     "data": {
      "text/html": [
       "<div>\n",
       "<style scoped>\n",
       "    .dataframe tbody tr th:only-of-type {\n",
       "        vertical-align: middle;\n",
       "    }\n",
       "\n",
       "    .dataframe tbody tr th {\n",
       "        vertical-align: top;\n",
       "    }\n",
       "\n",
       "    .dataframe thead th {\n",
       "        text-align: right;\n",
       "    }\n",
       "</style>\n",
       "<table border=\"1\" class=\"dataframe\">\n",
       "  <thead>\n",
       "    <tr style=\"text-align: right;\">\n",
       "      <th></th>\n",
       "      <th>Date</th>\n",
       "      <th>Open</th>\n",
       "      <th>High</th>\n",
       "      <th>Low</th>\n",
       "      <th>Close</th>\n",
       "      <th>Adj Close</th>\n",
       "      <th>Volume</th>\n",
       "      <th>Year</th>\n",
       "      <th>Month</th>\n",
       "      <th>day</th>\n",
       "    </tr>\n",
       "  </thead>\n",
       "  <tbody>\n",
       "    <tr>\n",
       "      <th>0</th>\n",
       "      <td>2012-01-03</td>\n",
       "      <td>14.621429</td>\n",
       "      <td>14.732143</td>\n",
       "      <td>14.607143</td>\n",
       "      <td>14.686786</td>\n",
       "      <td>12.466090</td>\n",
       "      <td>302220800</td>\n",
       "      <td>2012</td>\n",
       "      <td>1</td>\n",
       "      <td>3</td>\n",
       "    </tr>\n",
       "    <tr>\n",
       "      <th>1</th>\n",
       "      <td>2012-01-04</td>\n",
       "      <td>14.642857</td>\n",
       "      <td>14.810000</td>\n",
       "      <td>14.617143</td>\n",
       "      <td>14.765714</td>\n",
       "      <td>12.533089</td>\n",
       "      <td>260022000</td>\n",
       "      <td>2012</td>\n",
       "      <td>1</td>\n",
       "      <td>4</td>\n",
       "    </tr>\n",
       "    <tr>\n",
       "      <th>2</th>\n",
       "      <td>2012-01-05</td>\n",
       "      <td>14.819643</td>\n",
       "      <td>14.948214</td>\n",
       "      <td>14.738214</td>\n",
       "      <td>14.929643</td>\n",
       "      <td>12.672229</td>\n",
       "      <td>271269600</td>\n",
       "      <td>2012</td>\n",
       "      <td>1</td>\n",
       "      <td>5</td>\n",
       "    </tr>\n",
       "    <tr>\n",
       "      <th>3</th>\n",
       "      <td>2012-01-06</td>\n",
       "      <td>14.991786</td>\n",
       "      <td>15.098214</td>\n",
       "      <td>14.972143</td>\n",
       "      <td>15.085714</td>\n",
       "      <td>12.804703</td>\n",
       "      <td>318292800</td>\n",
       "      <td>2012</td>\n",
       "      <td>1</td>\n",
       "      <td>6</td>\n",
       "    </tr>\n",
       "    <tr>\n",
       "      <th>4</th>\n",
       "      <td>2012-01-09</td>\n",
       "      <td>15.196429</td>\n",
       "      <td>15.276786</td>\n",
       "      <td>15.048214</td>\n",
       "      <td>15.061786</td>\n",
       "      <td>12.784389</td>\n",
       "      <td>394024400</td>\n",
       "      <td>2012</td>\n",
       "      <td>1</td>\n",
       "      <td>9</td>\n",
       "    </tr>\n",
       "  </tbody>\n",
       "</table>\n",
       "</div>"
      ],
      "text/plain": [
       "        Date       Open       High        Low      Close  Adj Close  \\\n",
       "0 2012-01-03  14.621429  14.732143  14.607143  14.686786  12.466090   \n",
       "1 2012-01-04  14.642857  14.810000  14.617143  14.765714  12.533089   \n",
       "2 2012-01-05  14.819643  14.948214  14.738214  14.929643  12.672229   \n",
       "3 2012-01-06  14.991786  15.098214  14.972143  15.085714  12.804703   \n",
       "4 2012-01-09  15.196429  15.276786  15.048214  15.061786  12.784389   \n",
       "\n",
       "      Volume  Year  Month  day  \n",
       "0  302220800  2012      1    3  \n",
       "1  260022000  2012      1    4  \n",
       "2  271269600  2012      1    5  \n",
       "3  318292800  2012      1    6  \n",
       "4  394024400  2012      1    9  "
      ]
     },
     "execution_count": 40,
     "metadata": {},
     "output_type": "execute_result"
    }
   ],
   "source": [
    "AAPL['Year'] = AAPL['Date'].dt.year\n",
    "AAPL['Month'] = AAPL['Date'].dt.month\n",
    "AAPL['day'] = AAPL['Date'].dt.day\n",
    "AAPL.head()\n"
   ]
  },
  {
   "cell_type": "code",
   "execution_count": null,
   "metadata": {},
   "outputs": [],
   "source": []
  },
  {
   "cell_type": "code",
   "execution_count": 41,
   "metadata": {},
   "outputs": [
    {
     "data": {
      "text/plain": [
       "1        14.765714\n",
       "2        14.929643\n",
       "3        15.085714\n",
       "4        15.061786\n",
       "5        15.115714\n",
       "           ...    \n",
       "2926    175.839996\n",
       "2927    177.229996\n",
       "2928    181.119995\n",
       "2929    176.380005\n",
       "2930    178.610001\n",
       "Name: Close, Length: 2930, dtype: float64"
      ]
     },
     "execution_count": 41,
     "metadata": {},
     "output_type": "execute_result"
    }
   ],
   "source": [
    "# for문 사용\n",
    "\n",
    "AAPL['Close'].iloc[1:] - AAPL['Close'].iloc[]\n"
   ]
  },
  {
   "cell_type": "code",
   "execution_count": 42,
   "metadata": {},
   "outputs": [
    {
     "data": {
      "text/plain": [
       "0            NaN\n",
       "1       0.078928\n",
       "2       0.163929\n",
       "3       0.156071\n",
       "4      -0.023928\n",
       "          ...   \n",
       "2926    1.349991\n",
       "2927    1.390000\n",
       "2928    3.889999\n",
       "2929   -4.739990\n",
       "2930    2.229996\n",
       "Name: Close, Length: 2931, dtype: float64"
      ]
     },
     "execution_count": 42,
     "metadata": {},
     "output_type": "execute_result"
    }
   ],
   "source": [
    "AAPL['Close'].diff()"
   ]
  },
  {
   "cell_type": "code",
   "execution_count": 43,
   "metadata": {},
   "outputs": [
    {
     "data": {
      "text/plain": [
       "0            NaN\n",
       "1       0.005374\n",
       "2       0.011102\n",
       "3       0.010454\n",
       "4      -0.001586\n",
       "          ...   \n",
       "2926    0.007737\n",
       "2927    0.007905\n",
       "2928    0.021949\n",
       "2929   -0.026170\n",
       "2930    0.012643\n",
       "Name: Close, Length: 2931, dtype: float64"
      ]
     },
     "execution_count": 43,
     "metadata": {},
     "output_type": "execute_result"
    }
   ],
   "source": [
    "AAPL['Close'].pct_change()"
   ]
  },
  {
   "cell_type": "code",
   "execution_count": 44,
   "metadata": {},
   "outputs": [
    {
     "data": {
      "text/html": [
       "<div>\n",
       "<style scoped>\n",
       "    .dataframe tbody tr th:only-of-type {\n",
       "        vertical-align: middle;\n",
       "    }\n",
       "\n",
       "    .dataframe tbody tr th {\n",
       "        vertical-align: top;\n",
       "    }\n",
       "\n",
       "    .dataframe thead th {\n",
       "        text-align: right;\n",
       "    }\n",
       "</style>\n",
       "<table border=\"1\" class=\"dataframe\">\n",
       "  <thead>\n",
       "    <tr style=\"text-align: right;\">\n",
       "      <th></th>\n",
       "      <th>Date</th>\n",
       "      <th>Open</th>\n",
       "      <th>High</th>\n",
       "      <th>Low</th>\n",
       "      <th>Close</th>\n",
       "      <th>Adj Close</th>\n",
       "      <th>Volume</th>\n",
       "      <th>Year</th>\n",
       "      <th>Month</th>\n",
       "      <th>day</th>\n",
       "      <th>Close_shift1</th>\n",
       "    </tr>\n",
       "  </thead>\n",
       "  <tbody>\n",
       "    <tr>\n",
       "      <th>0</th>\n",
       "      <td>2012-01-03</td>\n",
       "      <td>14.621429</td>\n",
       "      <td>14.732143</td>\n",
       "      <td>14.607143</td>\n",
       "      <td>14.686786</td>\n",
       "      <td>12.466090</td>\n",
       "      <td>302220800</td>\n",
       "      <td>2012</td>\n",
       "      <td>1</td>\n",
       "      <td>3</td>\n",
       "      <td>NaN</td>\n",
       "    </tr>\n",
       "    <tr>\n",
       "      <th>1</th>\n",
       "      <td>2012-01-04</td>\n",
       "      <td>14.642857</td>\n",
       "      <td>14.810000</td>\n",
       "      <td>14.617143</td>\n",
       "      <td>14.765714</td>\n",
       "      <td>12.533089</td>\n",
       "      <td>260022000</td>\n",
       "      <td>2012</td>\n",
       "      <td>1</td>\n",
       "      <td>4</td>\n",
       "      <td>14.686786</td>\n",
       "    </tr>\n",
       "    <tr>\n",
       "      <th>2</th>\n",
       "      <td>2012-01-05</td>\n",
       "      <td>14.819643</td>\n",
       "      <td>14.948214</td>\n",
       "      <td>14.738214</td>\n",
       "      <td>14.929643</td>\n",
       "      <td>12.672229</td>\n",
       "      <td>271269600</td>\n",
       "      <td>2012</td>\n",
       "      <td>1</td>\n",
       "      <td>5</td>\n",
       "      <td>14.765714</td>\n",
       "    </tr>\n",
       "    <tr>\n",
       "      <th>3</th>\n",
       "      <td>2012-01-06</td>\n",
       "      <td>14.991786</td>\n",
       "      <td>15.098214</td>\n",
       "      <td>14.972143</td>\n",
       "      <td>15.085714</td>\n",
       "      <td>12.804703</td>\n",
       "      <td>318292800</td>\n",
       "      <td>2012</td>\n",
       "      <td>1</td>\n",
       "      <td>6</td>\n",
       "      <td>14.929643</td>\n",
       "    </tr>\n",
       "    <tr>\n",
       "      <th>4</th>\n",
       "      <td>2012-01-09</td>\n",
       "      <td>15.196429</td>\n",
       "      <td>15.276786</td>\n",
       "      <td>15.048214</td>\n",
       "      <td>15.061786</td>\n",
       "      <td>12.784389</td>\n",
       "      <td>394024400</td>\n",
       "      <td>2012</td>\n",
       "      <td>1</td>\n",
       "      <td>9</td>\n",
       "      <td>15.085714</td>\n",
       "    </tr>\n",
       "  </tbody>\n",
       "</table>\n",
       "</div>"
      ],
      "text/plain": [
       "        Date       Open       High        Low      Close  Adj Close  \\\n",
       "0 2012-01-03  14.621429  14.732143  14.607143  14.686786  12.466090   \n",
       "1 2012-01-04  14.642857  14.810000  14.617143  14.765714  12.533089   \n",
       "2 2012-01-05  14.819643  14.948214  14.738214  14.929643  12.672229   \n",
       "3 2012-01-06  14.991786  15.098214  14.972143  15.085714  12.804703   \n",
       "4 2012-01-09  15.196429  15.276786  15.048214  15.061786  12.784389   \n",
       "\n",
       "      Volume  Year  Month  day  Close_shift1  \n",
       "0  302220800  2012      1    3           NaN  \n",
       "1  260022000  2012      1    4     14.686786  \n",
       "2  271269600  2012      1    5     14.765714  \n",
       "3  318292800  2012      1    6     14.929643  \n",
       "4  394024400  2012      1    9     15.085714  "
      ]
     },
     "execution_count": 44,
     "metadata": {},
     "output_type": "execute_result"
    }
   ],
   "source": [
    "AAPL['Close_shift1'] = AAPL['Close'].shift(1) # 한칸 내려서 새로운 표 생성\n",
    "AAPL.head()"
   ]
  },
  {
   "cell_type": "markdown",
   "metadata": {},
   "source": [
    "## 이동 평균 vs 누적 평균\n",
    "\n"
   ]
  },
  {
   "cell_type": "code",
   "execution_count": 45,
   "metadata": {},
   "outputs": [
    {
     "data": {
      "text/html": [
       "<div>\n",
       "<style scoped>\n",
       "    .dataframe tbody tr th:only-of-type {\n",
       "        vertical-align: middle;\n",
       "    }\n",
       "\n",
       "    .dataframe tbody tr th {\n",
       "        vertical-align: top;\n",
       "    }\n",
       "\n",
       "    .dataframe thead th {\n",
       "        text-align: right;\n",
       "    }\n",
       "</style>\n",
       "<table border=\"1\" class=\"dataframe\">\n",
       "  <thead>\n",
       "    <tr style=\"text-align: right;\">\n",
       "      <th></th>\n",
       "      <th>Date</th>\n",
       "      <th>Open</th>\n",
       "      <th>High</th>\n",
       "      <th>Low</th>\n",
       "      <th>Close</th>\n",
       "      <th>Adj Close</th>\n",
       "      <th>Volume</th>\n",
       "      <th>Year</th>\n",
       "      <th>Month</th>\n",
       "      <th>day</th>\n",
       "      <th>Close_shift1</th>\n",
       "      <th>ex_mean</th>\n",
       "      <th>MA5</th>\n",
       "    </tr>\n",
       "  </thead>\n",
       "  <tbody>\n",
       "    <tr>\n",
       "      <th>0</th>\n",
       "      <td>2012-01-03</td>\n",
       "      <td>14.621429</td>\n",
       "      <td>14.732143</td>\n",
       "      <td>14.607143</td>\n",
       "      <td>14.686786</td>\n",
       "      <td>12.466090</td>\n",
       "      <td>302220800</td>\n",
       "      <td>2012</td>\n",
       "      <td>1</td>\n",
       "      <td>3</td>\n",
       "      <td>NaN</td>\n",
       "      <td>14.686786</td>\n",
       "      <td>NaN</td>\n",
       "    </tr>\n",
       "    <tr>\n",
       "      <th>1</th>\n",
       "      <td>2012-01-04</td>\n",
       "      <td>14.642857</td>\n",
       "      <td>14.810000</td>\n",
       "      <td>14.617143</td>\n",
       "      <td>14.765714</td>\n",
       "      <td>12.533089</td>\n",
       "      <td>260022000</td>\n",
       "      <td>2012</td>\n",
       "      <td>1</td>\n",
       "      <td>4</td>\n",
       "      <td>14.686786</td>\n",
       "      <td>14.726250</td>\n",
       "      <td>NaN</td>\n",
       "    </tr>\n",
       "    <tr>\n",
       "      <th>2</th>\n",
       "      <td>2012-01-05</td>\n",
       "      <td>14.819643</td>\n",
       "      <td>14.948214</td>\n",
       "      <td>14.738214</td>\n",
       "      <td>14.929643</td>\n",
       "      <td>12.672229</td>\n",
       "      <td>271269600</td>\n",
       "      <td>2012</td>\n",
       "      <td>1</td>\n",
       "      <td>5</td>\n",
       "      <td>14.765714</td>\n",
       "      <td>14.794048</td>\n",
       "      <td>NaN</td>\n",
       "    </tr>\n",
       "    <tr>\n",
       "      <th>3</th>\n",
       "      <td>2012-01-06</td>\n",
       "      <td>14.991786</td>\n",
       "      <td>15.098214</td>\n",
       "      <td>14.972143</td>\n",
       "      <td>15.085714</td>\n",
       "      <td>12.804703</td>\n",
       "      <td>318292800</td>\n",
       "      <td>2012</td>\n",
       "      <td>1</td>\n",
       "      <td>6</td>\n",
       "      <td>14.929643</td>\n",
       "      <td>14.866964</td>\n",
       "      <td>NaN</td>\n",
       "    </tr>\n",
       "    <tr>\n",
       "      <th>4</th>\n",
       "      <td>2012-01-09</td>\n",
       "      <td>15.196429</td>\n",
       "      <td>15.276786</td>\n",
       "      <td>15.048214</td>\n",
       "      <td>15.061786</td>\n",
       "      <td>12.784389</td>\n",
       "      <td>394024400</td>\n",
       "      <td>2012</td>\n",
       "      <td>1</td>\n",
       "      <td>9</td>\n",
       "      <td>15.085714</td>\n",
       "      <td>14.905929</td>\n",
       "      <td>14.905929</td>\n",
       "    </tr>\n",
       "    <tr>\n",
       "      <th>...</th>\n",
       "      <td>...</td>\n",
       "      <td>...</td>\n",
       "      <td>...</td>\n",
       "      <td>...</td>\n",
       "      <td>...</td>\n",
       "      <td>...</td>\n",
       "      <td>...</td>\n",
       "      <td>...</td>\n",
       "      <td>...</td>\n",
       "      <td>...</td>\n",
       "      <td>...</td>\n",
       "      <td>...</td>\n",
       "      <td>...</td>\n",
       "    </tr>\n",
       "    <tr>\n",
       "      <th>2926</th>\n",
       "      <td>2023-08-21</td>\n",
       "      <td>175.070007</td>\n",
       "      <td>176.130005</td>\n",
       "      <td>173.740005</td>\n",
       "      <td>175.839996</td>\n",
       "      <td>175.839996</td>\n",
       "      <td>46311900</td>\n",
       "      <td>2023</td>\n",
       "      <td>8</td>\n",
       "      <td>21</td>\n",
       "      <td>174.490005</td>\n",
       "      <td>64.509729</td>\n",
       "      <td>175.670001</td>\n",
       "    </tr>\n",
       "    <tr>\n",
       "      <th>2927</th>\n",
       "      <td>2023-08-22</td>\n",
       "      <td>177.059998</td>\n",
       "      <td>177.679993</td>\n",
       "      <td>176.250000</td>\n",
       "      <td>177.229996</td>\n",
       "      <td>177.229996</td>\n",
       "      <td>42084200</td>\n",
       "      <td>2023</td>\n",
       "      <td>8</td>\n",
       "      <td>22</td>\n",
       "      <td>175.839996</td>\n",
       "      <td>64.548227</td>\n",
       "      <td>175.626001</td>\n",
       "    </tr>\n",
       "    <tr>\n",
       "      <th>2928</th>\n",
       "      <td>2023-08-23</td>\n",
       "      <td>178.520004</td>\n",
       "      <td>181.550003</td>\n",
       "      <td>178.330002</td>\n",
       "      <td>181.119995</td>\n",
       "      <td>181.119995</td>\n",
       "      <td>52722800</td>\n",
       "      <td>2023</td>\n",
       "      <td>8</td>\n",
       "      <td>23</td>\n",
       "      <td>177.229996</td>\n",
       "      <td>64.588026</td>\n",
       "      <td>176.535998</td>\n",
       "    </tr>\n",
       "    <tr>\n",
       "      <th>2929</th>\n",
       "      <td>2023-08-24</td>\n",
       "      <td>180.669998</td>\n",
       "      <td>181.100006</td>\n",
       "      <td>176.009995</td>\n",
       "      <td>176.380005</td>\n",
       "      <td>176.380005</td>\n",
       "      <td>54945800</td>\n",
       "      <td>2023</td>\n",
       "      <td>8</td>\n",
       "      <td>24</td>\n",
       "      <td>181.119995</td>\n",
       "      <td>64.626180</td>\n",
       "      <td>177.011999</td>\n",
       "    </tr>\n",
       "    <tr>\n",
       "      <th>2930</th>\n",
       "      <td>2023-08-25</td>\n",
       "      <td>177.380005</td>\n",
       "      <td>179.149994</td>\n",
       "      <td>175.820007</td>\n",
       "      <td>178.610001</td>\n",
       "      <td>178.610001</td>\n",
       "      <td>51418700</td>\n",
       "      <td>2023</td>\n",
       "      <td>8</td>\n",
       "      <td>25</td>\n",
       "      <td>176.380005</td>\n",
       "      <td>64.665069</td>\n",
       "      <td>177.835999</td>\n",
       "    </tr>\n",
       "  </tbody>\n",
       "</table>\n",
       "<p>2931 rows × 13 columns</p>\n",
       "</div>"
      ],
      "text/plain": [
       "           Date        Open        High         Low       Close   Adj Close  \\\n",
       "0    2012-01-03   14.621429   14.732143   14.607143   14.686786   12.466090   \n",
       "1    2012-01-04   14.642857   14.810000   14.617143   14.765714   12.533089   \n",
       "2    2012-01-05   14.819643   14.948214   14.738214   14.929643   12.672229   \n",
       "3    2012-01-06   14.991786   15.098214   14.972143   15.085714   12.804703   \n",
       "4    2012-01-09   15.196429   15.276786   15.048214   15.061786   12.784389   \n",
       "...         ...         ...         ...         ...         ...         ...   \n",
       "2926 2023-08-21  175.070007  176.130005  173.740005  175.839996  175.839996   \n",
       "2927 2023-08-22  177.059998  177.679993  176.250000  177.229996  177.229996   \n",
       "2928 2023-08-23  178.520004  181.550003  178.330002  181.119995  181.119995   \n",
       "2929 2023-08-24  180.669998  181.100006  176.009995  176.380005  176.380005   \n",
       "2930 2023-08-25  177.380005  179.149994  175.820007  178.610001  178.610001   \n",
       "\n",
       "         Volume  Year  Month  day  Close_shift1    ex_mean         MA5  \n",
       "0     302220800  2012      1    3           NaN  14.686786         NaN  \n",
       "1     260022000  2012      1    4     14.686786  14.726250         NaN  \n",
       "2     271269600  2012      1    5     14.765714  14.794048         NaN  \n",
       "3     318292800  2012      1    6     14.929643  14.866964         NaN  \n",
       "4     394024400  2012      1    9     15.085714  14.905929   14.905929  \n",
       "...         ...   ...    ...  ...           ...        ...         ...  \n",
       "2926   46311900  2023      8   21    174.490005  64.509729  175.670001  \n",
       "2927   42084200  2023      8   22    175.839996  64.548227  175.626001  \n",
       "2928   52722800  2023      8   23    177.229996  64.588026  176.535998  \n",
       "2929   54945800  2023      8   24    181.119995  64.626180  177.011999  \n",
       "2930   51418700  2023      8   25    176.380005  64.665069  177.835999  \n",
       "\n",
       "[2931 rows x 13 columns]"
      ]
     },
     "execution_count": 45,
     "metadata": {},
     "output_type": "execute_result"
    }
   ],
   "source": [
    "# 누적 평균\n",
    "\n",
    "AAPL['ex_mean'] = AAPL['Close'].expanding().mean() #누적 평균\n",
    "AAPL['MA5'] = AAPL['Close'].rolling(window=5).mean() #이동 평균 window size5\n",
    "AAPL"
   ]
  },
  {
   "cell_type": "code",
   "execution_count": null,
   "metadata": {},
   "outputs": [],
   "source": []
  }
 ],
 "metadata": {
  "kernelspec": {
   "display_name": "Python 3",
   "language": "python",
   "name": "python3"
  },
  "language_info": {
   "codemirror_mode": {
    "name": "ipython",
    "version": 3
   },
   "file_extension": ".py",
   "mimetype": "text/x-python",
   "name": "python",
   "nbconvert_exporter": "python",
   "pygments_lexer": "ipython3",
   "version": "3.11.5"
  },
  "orig_nbformat": 4
 },
 "nbformat": 4,
 "nbformat_minor": 2
}
